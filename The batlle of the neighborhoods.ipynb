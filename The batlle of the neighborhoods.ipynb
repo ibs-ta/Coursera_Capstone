{
 "cells": [
  {
   "cell_type": "markdown",
   "metadata": {},
   "source": [
    "# Capstone Project - The Battle of Neighborhoods (Week 1)"
   ]
  },
  {
   "cell_type": "markdown",
   "metadata": {},
   "source": [
    "## Part1: problem Description (Introduction/Business Problem)"
   ]
  },
  {
   "cell_type": "markdown",
   "metadata": {},
   "source": [
    "A seasoning wholesaler wants to start a business in one of Toronto's  boroughs (Scarborough). This wholesaler offers various types of Restaurants, Bakeries, Breakfast Spots and Cafés with high quality bulk spices and seasonings. The contractor intends to construct a warehouse to store all of his products that are imported from abroad , and to use the warehouse as the base for all outgoing deliveries for his business."
   ]
  },
  {
   "cell_type": "markdown",
   "metadata": {},
   "source": [
    "The contractor should construct this warehouse where it is nearest to his clients to minimize the cost of transportation. So the problematic question is : What neighborhood in the borough of Scarborough would be the best  option for the wholesaler to construct a warehouse in ?\n",
    "Our task is to find the perfect neighborhood and to construct  a  recommender  system that will provide the wholesaler with a sorted list of neighborhoods where the best suggested neighborhood will be the first element of the list."
   ]
  },
  {
   "cell_type": "markdown",
   "metadata": {},
   "source": [
    "## Part2: Data section ( Data nedeed):"
   ]
  },
  {
   "cell_type": "markdown",
   "metadata": {},
   "source": [
    "Geo-locational data about the borough of Scarborough and the neighborhoods in it will be needed. We imply the borough's latitude and longitude figures.The postal codes falling into the the borough of Scarborough  would be our starting point to discover the neighborhoods within the borough .\n",
    "\n",
    "We will need data about different venues in different neighborhoods of that specific borough. In order to gain that information we will use \"Foursquare\" locational information. the locational information for each venue contains basic and advanced information about that venue. For example a basic information in regards to a certain venue in a certain neighborhood will be its precise latitude and longitude and also its distance from the center of the neighborhood. As for advanced information tis will provide us with the category of the venue ,its popularity and maybe the average price of the services and so on."
   ]
  },
  {
   "cell_type": "code",
   "execution_count": null,
   "metadata": {},
   "outputs": [],
   "source": []
  }
 ],
 "metadata": {
  "kernelspec": {
   "display_name": "Python",
   "language": "python",
   "name": "conda-env-python-py"
  },
  "language_info": {
   "codemirror_mode": {
    "name": "ipython",
    "version": 3
   },
   "file_extension": ".py",
   "mimetype": "text/x-python",
   "name": "python",
   "nbconvert_exporter": "python",
   "pygments_lexer": "ipython3",
   "version": "3.6.7"
  }
 },
 "nbformat": 4,
 "nbformat_minor": 4
}
