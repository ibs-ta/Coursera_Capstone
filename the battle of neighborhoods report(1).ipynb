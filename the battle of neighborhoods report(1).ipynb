{
 "cells": [
  {
   "cell_type": "markdown",
   "metadata": {},
   "source": [
    "# Capstone Project - The Battle of neighborhoods ( Report )"
   ]
  },
  {
   "cell_type": "markdown",
   "metadata": {},
   "source": [
    "## Introduction ( Business problem/ Interested party)"
   ]
  },
  {
   "cell_type": "markdown",
   "metadata": {},
   "source": [
    "A seasoning wholesaler wants to start a business in one of Toronto's  boroughs (Scarborough). This wholesaler offers various types of Restaurants, Bakeries, Breakfast Spots and Cafés with high quality bulk spices and seasonings. The contractor intends to construct a warehouse to store all of his products that are imported from abroad , and to use the warehouse as the base for all outgoing deliveries for his business."
   ]
  },
  {
   "cell_type": "markdown",
   "metadata": {},
   "source": [
    "The contractor should construct this warehouse where it is nearest to his clients to minimize the cost of transportation. So the problematic question is : What neighborhood in the borough of Scarborough would be the best  option for the wholesaler to construct a warehouse in ?\n",
    "Our task is to find the perfect neighborhood and to construct  a  recommender  system that will provide the wholesaler with a sorted list of neighborhoods where the best suggested neighborhood will be the first element of the list."
   ]
  },
  {
   "cell_type": "markdown",
   "metadata": {},
   "source": [
    "## Data Needed "
   ]
  },
  {
   "cell_type": "markdown",
   "metadata": {},
   "source": [
    "Geo-locational data about the borough of Scarborough and the neighborhoods in it will be needed. We imply the borough's latitude and longitude figures.The postal codes falling into the the borough of Scarborough  would be our starting point to discover the neighborhoods within the borough .\n",
    "\n",
    "We will need data about different venues in different neighborhoods of that specific borough. In order to gain that information we will use \"Foursquare\" locational information. the locational information for each venue contains basic and advanced information about that venue. For example a basic information in regards to a certain venue in a certain neighborhood will be its precise latitude and longitude and also its distance from the center of the neighborhood. As for advanced information tis will provide us with the category of the venue ,its popularity and maybe the average price of the services and so on."
   ]
  },
  {
   "cell_type": "markdown",
   "metadata": {},
   "source": [
    "## Methodology"
   ]
  },
  {
   "cell_type": "markdown",
   "metadata": {},
   "source": [
    "We started by identifying Neighborhoods inside \"Scarborough\" .To be able to do this we used Postal Codes of different regions inside Scarborough to find the list of neighborhoods. We obtained our information from https://en.wikipedia.org/wiki/List_of_postal_codes_of_Canada:_M and then processed the table inside this site. We then generated maps to visualize our data and help us understand our problem ."
   ]
  },
  {
   "cell_type": "markdown",
   "metadata": {},
   "source": [
    "Connecting to Foursquare and Retrieving Locational Data for Each Venue in Every Neighborhood was the next step .\n",
    "After finding the list of neighborhoods, we then connected to the Foursquare API to gather information about venues inside each and every neighborhood. For each neighborhood, we have chosen the radius to be 1000 meter.Which means that we have asked Foursquare to find venues that are at most 1000 meter far from the center of the neighborhood.  "
   ]
  },
  {
   "cell_type": "markdown",
   "metadata": {},
   "source": [
    "We then went on to processing the retrieved Data and Creating a Data Frame for all the venues inside the Scarborough borough .\n",
    "When the data was completely gathered, we then process the raw data to find our desirable features for each venue. Our main feature is the category of that venue. After this stage, the column \"Venue's Category\" became One-hot encoded and different venues had different feature-columns. After On-hot encoding we then integrated all restaurant columns to one column \"Total Restaurants\" and all food joint columns to \"Total Joints\" column. "
   ]
  },
  {
   "cell_type": "markdown",
   "metadata": {},
   "source": [
    "Now that the  dataset is fully ready to be used for machine learning we applied the K-Means Clustering technique.\n",
    "Here we clustered the  neighborhoods via K-means clustering method. We thought that 5 clusters is enough and can cover the complexity of our problem. After clustering we then updated our dataset and created a column representing the group for each neighborhood.\n"
   ]
  },
  {
   "cell_type": "markdown",
   "metadata": {},
   "source": [
    "## Results"
   ]
  },
  {
   "cell_type": "markdown",
   "metadata": {},
   "source": [
    "As for interperting the results we focused on the centers of clusters and compared them for their \"Total Restaurants\" and their \"Total Joints\". The group where the center has the highest \"Total Sum\" will be our best recommendation to the contractor. "
   ]
  },
  {
   "cell_type": "markdown",
   "metadata": {},
   "source": [
    "## Conclusion"
   ]
  },
  {
   "cell_type": "markdown",
   "metadata": {},
   "source": [
    "Based on our analysis, the best recommended neighborhood for the wholesaler to construct a warehouse in  will be:  \n",
    "Neighborhood: Agincourt  \n",
    "Postal Code: M1S  \n",
    "Neighborhood Latitude: 43.7942003  \n",
    "Neighborhood Longitude: -79.26202940000002  "
   ]
  }
 ],
 "metadata": {
  "kernelspec": {
   "display_name": "Python",
   "language": "python",
   "name": "conda-env-python-py"
  },
  "language_info": {
   "codemirror_mode": {
    "name": "ipython",
    "version": 3
   },
   "file_extension": ".py",
   "mimetype": "text/x-python",
   "name": "python",
   "nbconvert_exporter": "python",
   "pygments_lexer": "ipython3",
   "version": "3.6.7"
  }
 },
 "nbformat": 4,
 "nbformat_minor": 4
}
